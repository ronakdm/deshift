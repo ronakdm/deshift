{
 "cells": [
  {
   "cell_type": "code",
   "execution_count": 13,
   "metadata": {},
   "outputs": [],
   "source": [
    "from wilds import get_dataset\n",
    "from wilds.common.data_loaders import get_train_loader\n",
    "\n",
    "import numpy as np\n",
    "import torch.nn as nn\n",
    "import torch.nn.functional as F\n",
    "import torch\n",
    "from tqdm import tqdm\n",
    "import datetime\n",
    "import time\n",
    "import random\n",
    "import os\n",
    "import sys\n",
    "import json\n",
    "import logging\n",
    "\n",
    "import matplotlib.pyplot as plt\n",
    "import seaborn as sns\n",
    "\n",
    "from transformers import AutoTokenizer, BertForSequenceClassification, get_cosine_schedule_with_warmup\n",
    "from torch.utils.data import DataLoader, RandomSampler, WeightedRandomSampler, SequentialSampler, Dataset\n",
    "\n",
    "from sklearn.metrics import accuracy_score, classification_report"
   ]
  },
  {
   "cell_type": "code",
   "execution_count": 14,
   "metadata": {},
   "outputs": [],
   "source": [
    "ROOT_DIR = \"/mnt/ssd/ronak/datasets/wilds\"\n",
    "CACHE_DIR = \"/mnt/ssd/ronak/models\"\n",
    "SAVE_DIR = \"/mnt/hdd/ronak/wilds/amazon\"\n",
    "OUT_DIR = \"/mnt/ssd/ronak/output/wilds/amazon\"\n",
    "MODEL_NAME = \"bert\""
   ]
  },
  {
   "cell_type": "markdown",
   "metadata": {},
   "source": [
    "## Build Dataset"
   ]
  },
  {
   "cell_type": "code",
   "execution_count": 15,
   "metadata": {},
   "outputs": [],
   "source": [
    "DATA_SIZE = 50000\n",
    "SEQ_LEN = 100"
   ]
  },
  {
   "cell_type": "code",
   "execution_count": 16,
   "metadata": {},
   "outputs": [],
   "source": [
    "# Load the full dataset, and download it if necessary\n",
    "dataset = get_dataset(dataset=\"amazon\", download=True, root_dir=ROOT_DIR)"
   ]
  },
  {
   "cell_type": "code",
   "execution_count": 17,
   "metadata": {},
   "outputs": [],
   "source": [
    "tokenizer = AutoTokenizer.from_pretrained(\"bert-base-uncased\")"
   ]
  },
  {
   "cell_type": "code",
   "execution_count": 18,
   "metadata": {},
   "outputs": [],
   "source": [
    "def get_lens(split, n, tokenizer):\n",
    "    # Tokenize all of the sentences and map the tokens to thier word IDs.\n",
    "    lens = []\n",
    "\n",
    "    loader = get_train_loader(\"standard\", dataset.get_subset(split), batch_size=1)\n",
    "    print(f\"Loader size: {len(loader)}.\")\n",
    "    for i, (x, y, z) in tqdm(enumerate(loader)):\n",
    "        encoded_dict = tokenizer(\n",
    "            x[0], \n",
    "            add_special_tokens=True,  # Add '[CLS]' and '[SEP]'\n",
    "            return_tensors=\"pt\", \n",
    "        )\n",
    "\n",
    "        # Add the encoded sentence to the list.\n",
    "        lens.append(encoded_dict[\"input_ids\"].shape[1])\n",
    "\n",
    "        if i == n - 1:\n",
    "            break\n",
    "\n",
    "    return np.array(lens)\n",
    "\n",
    "\n",
    "# generate encoded tokens:\n",
    "def get_split(split, tokenizer, max_length=SEQ_LEN, idx=None):\n",
    "    # Tokenize all of the sentences and map the tokens to thier word IDs.\n",
    "    input_ids = []\n",
    "    attn_masks = []\n",
    "    labels = []\n",
    "    metadata = []\n",
    "\n",
    "    # For every sentence...\n",
    "    # sentences = dataset[split][\"text\"]\n",
    "    # train_data = dataset.get_subset(split)\n",
    "    loader = get_train_loader(\"standard\", dataset.get_subset(split), batch_size=1)\n",
    "    print(f\"Loader size: {len(loader)}.\")\n",
    "    for i, (x, y, z) in tqdm(enumerate(loader)):\n",
    "        if idx is None or i in idx:\n",
    "            encoded_dict = tokenizer(\n",
    "                x[0], \n",
    "                add_special_tokens=True,  # Add '[CLS]' and '[SEP]'\n",
    "                max_length=max_length,\n",
    "                truncation=True,\n",
    "                padding='max_length',\n",
    "                return_tensors=\"pt\",  # Return pytorch tensors.return_tensors='pt'\n",
    "                return_attention_mask=True,\n",
    "            )\n",
    "\n",
    "            # Add the encoded sentence to the list.\n",
    "            input_ids.append(encoded_dict[\"input_ids\"])\n",
    "            attn_masks.append(encoded_dict[\"attention_mask\"])\n",
    "            labels.append(y.item())\n",
    "            metadata.append(z)\n",
    "\n",
    "    input_ids = torch.cat(input_ids, dim=0)\n",
    "    attn_masks = torch.cat(attn_masks, dim=0)\n",
    "    labels = torch.tensor(labels).long()\n",
    "    metadata = torch.cat(metadata)\n",
    "\n",
    "    return input_ids, attn_masks, labels, metadata"
   ]
  },
  {
   "cell_type": "code",
   "execution_count": 19,
   "metadata": {},
   "outputs": [
    {
     "name": "stdout",
     "output_type": "stream",
     "text": [
      "Loader size: 245502.\n"
     ]
    },
    {
     "name": "stderr",
     "output_type": "stream",
     "text": [
      "2999it [00:01, 1523.49it/s]\n"
     ]
    }
   ],
   "source": [
    "n = 3000\n",
    "seq_len = get_lens(\"train\", n, tokenizer)"
   ]
  },
  {
   "cell_type": "code",
   "execution_count": 20,
   "metadata": {},
   "outputs": [
    {
     "name": "stdout",
     "output_type": "stream",
     "text": [
      "0.5 quantile: 118.0\n",
      "0.75 quantile: 229.25\n",
      "0.9 quantile: 358.0999999999999\n"
     ]
    },
    {
     "data": {
      "image/png": "[encoded data removed]",
      "text/plain": [
       "<Figure size 500x500 with 1 Axes>"
      ]
     },
     "metadata": {},
     "output_type": "display_data"
    }
   ],
   "source": [
    "for q in [0.5, 0.75, 0.9]:\n",
    "    print(f\"{q} quantile: {np.quantile(seq_len, q)}\")\n",
    "\n",
    "sns.set_style(\"white\")\n",
    "\n",
    "fig, ax = plt.subplots(1, 1, figsize=(5, 5))\n",
    "ax.hist(seq_len, bins=20, color=\"tab:blue\", alpha=0.5, edgecolor=\"k\")\n",
    "ax.set_xlabel(\"Tokenized Sequence Length\")\n",
    "ax.set_ylabel(\"Frequency\")\n",
    "plt.show()"
   ]
  },
  {
   "cell_type": "code",
   "execution_count": 21,
   "metadata": {},
   "outputs": [
    {
     "name": "stdout",
     "output_type": "stream",
     "text": [
      "train loader size: 245502.\n",
      "val loader size: 100050.\n",
      "test loader size: 100050.\n"
     ]
    }
   ],
   "source": [
    "# loader sizes\n",
    "sample_sizes = {}\n",
    "for split in [\"train\", \"val\", \"test\"]:\n",
    "    loader = get_train_loader(\"standard\", dataset.get_subset(split), batch_size=1)\n",
    "    print(f\"{split} loader size: {len(loader)}.\")\n",
    "    sample_sizes[split] = len(loader)"
   ]
  },
  {
   "cell_type": "code",
   "execution_count": 22,
   "metadata": {},
   "outputs": [
    {
     "name": "stdout",
     "output_type": "stream",
     "text": [
      "Loader size: 245502.\n"
     ]
    },
    {
     "name": "stderr",
     "output_type": "stream",
     "text": [
      "245502it [01:39, 2460.01it/s]\n"
     ]
    },
    {
     "name": "stdout",
     "output_type": "stream",
     "text": [
      "torch.Size([50000, 100])\n",
      "Loader size: 100050.\n"
     ]
    },
    {
     "name": "stderr",
     "output_type": "stream",
     "text": [
      "100050it [01:18, 1269.38it/s]\n"
     ]
    },
    {
     "name": "stdout",
     "output_type": "stream",
     "text": [
      "torch.Size([50000, 100])\n",
      "Loader size: 100050.\n"
     ]
    },
    {
     "name": "stderr",
     "output_type": "stream",
     "text": [
      "100050it [01:18, 1268.53it/s]\n"
     ]
    },
    {
     "name": "stdout",
     "output_type": "stream",
     "text": [
      "torch.Size([50000, 100])\n"
     ]
    }
   ],
   "source": [
    "np.random.seed(123)\n",
    "\n",
    "for split in [\"train\", \"val\", \"test\"]:\n",
    "    idx = np.random.choice(sample_sizes[split], DATA_SIZE, replace=False)\n",
    "    input_ids, attn_masks, labels, metadata = get_split(split, tokenizer, max_length=SEQ_LEN, idx=idx)\n",
    "    \n",
    "    print(input_ids.shape)\n",
    "    torch.save(input_ids, os.path.join(SAVE_DIR, f\"{MODEL_NAME}_{split}_input_ids.pt\"))\n",
    "    torch.save(attn_masks, os.path.join(SAVE_DIR, f\"{MODEL_NAME}_{split}_attn_masks.pt\"))\n",
    "    torch.save(labels, os.path.join(SAVE_DIR, f\"{MODEL_NAME}_{split}_labels.pt\"))\n",
    "    torch.save(metadata, os.path.join(SAVE_DIR, f\"{MODEL_NAME}_{split}_metadata.pt\"))"
   ]
  },
  {
   "cell_type": "markdown",
   "metadata": {},
   "source": [
    "## Set Up Data and Model"
   ]
  },
  {
   "cell_type": "code",
   "execution_count": 3,
   "metadata": {},
   "outputs": [],
   "source": [
    "LEARNING_RATE = 2e-5\n",
    "ADAMW_TOLERANCE = 1e-8\n",
    "BATCH_SIZE = 32\n",
    "EPOCHS = 2\n",
    "SEED = 123\n",
    "BALANCE = 0.3 # data scaling\n",
    "OBJECTIVE = \"superquantile\"\n",
    "DEVICE = 1"
   ]
  },
  {
   "cell_type": "code",
   "execution_count": 4,
   "metadata": {},
   "outputs": [],
   "source": [
    "def load_data(split):\n",
    "    input_ids  = torch.load(os.path.join(SAVE_DIR, f\"{MODEL_NAME}_{split}_input_ids.pt\"))\n",
    "    attn_masks = torch.load(os.path.join(SAVE_DIR, f\"{MODEL_NAME}_{split}_attn_masks.pt\"))\n",
    "    labels     = torch.load(os.path.join(SAVE_DIR, f\"{MODEL_NAME}_{split}_labels.pt\"))\n",
    "    metadata   = torch.load(os.path.join(SAVE_DIR, f\"{MODEL_NAME}_{split}_metadata.pt\"))\n",
    "    return input_ids, attn_masks, labels, metadata\n",
    "\n",
    "class MaskedSequenceClassificationDataset(Dataset):\n",
    "    def __init__(self, input_ids, attn_masks, labels, metadata):\n",
    "        self.input_ids = input_ids\n",
    "        self.attn_masks = attn_masks\n",
    "        self.labels = labels\n",
    "        self.metadata = metadata\n",
    "\n",
    "    def __len__(self):\n",
    "        return len(self.input_ids)\n",
    "\n",
    "    def __getitem__(self, i):\n",
    "        return self.input_ids[i], self.attn_masks[i], self.labels[i], self.metadata[i]"
   ]
  },
  {
   "cell_type": "code",
   "execution_count": 5,
   "metadata": {},
   "outputs": [
    {
     "name": "stdout",
     "output_type": "stream",
     "text": [
      "Original label distribution:  [0.0124 0.0261 0.0948 0.2929 0.5738]\n",
      "Rebalanced label distribution: [0.06868 0.07827 0.12636 0.26503 0.46166]\n",
      "10,000 training samples.\n"
     ]
    }
   ],
   "source": [
    "input_ids, attn_masks, labels, metadata = load_data(\"train\")\n",
    "train_dataset = MaskedSequenceClassificationDataset(input_ids, attn_masks, labels, metadata)\n",
    "\n",
    "print(f\"Original label distribution:  {np.bincount(train_dataset.labels.numpy()) / len(train_dataset)}\")\n",
    "\n",
    "label_dist = np.bincount(train_dataset.labels.numpy()) / len(train_dataset)\n",
    "n_labels = len(label_dist)\n",
    "rebalanced_dist = BALANCE * np.ones(shape=(n_labels,)) / n_labels + (1 - BALANCE) * label_dist\n",
    "print(f\"Rebalanced label distribution: {rebalanced_dist}\")\n",
    "# radon-nykodym derivative to go from unbalanced to balanced wieghts\n",
    "rnd = rebalanced_dist / label_dist\n",
    "sample_weight = rnd[train_dataset.labels.numpy()]\n",
    "\n",
    "# use a weighted sampler for upsampling\n",
    "# we can use more data in the forward pass with the same memory budget\n",
    "n_samples = len(sample_weight) if OBJECTIVE == \"erm\" else 2 * len(sample_weight)\n",
    "batch_size = BATCH_SIZE if OBJECTIVE == \"erm\" else 2 * BATCH_SIZE\n",
    "train_dataloader = DataLoader(\n",
    "    train_dataset, sampler=WeightedRandomSampler(sample_weight, n_samples, replacement=True), batch_size=batch_size, drop_last=True\n",
    ")\n",
    "# train_dataloader = DataLoader(\n",
    "#     train_dataset, sampler=RandomSampler(train_dataset), batch_size=BATCH_SIZE\n",
    "# )\n",
    "print(\"{:>5,} training samples.\".format(len(train_dataset)))\n"
   ]
  },
  {
   "cell_type": "code",
   "execution_count": 6,
   "metadata": {},
   "outputs": [
    {
     "name": "stdout",
     "output_type": "stream",
     "text": [
      "Number of training labels:  10000\n",
      "Number of observed labels:  19968\n",
      "Resampled label distribution:  [0.06610577 0.07757412 0.123748   0.26958133 0.46299079]\n"
     ]
    }
   ],
   "source": [
    "# test train_dataloader\n",
    "labels = []\n",
    "for step, batch in enumerate(train_dataloader):\n",
    "    labels.append(batch[2].numpy())\n",
    "labels = np.concatenate(labels)\n",
    "print(f\"Number of training labels:  {len(train_dataset.labels)}\")\n",
    "print(f\"Number of observed labels:  {len(labels)}\")\n",
    "print(f\"Resampled label distribution:  {np.bincount(labels) / len(labels)}\")"
   ]
  },
  {
   "cell_type": "code",
   "execution_count": 7,
   "metadata": {},
   "outputs": [
    {
     "name": "stdout",
     "output_type": "stream",
     "text": [
      "[0.0131 0.0277 0.0926 0.2827 0.5839]\n",
      "10,000 validation samples.\n",
      "10,000 test samples.\n"
     ]
    }
   ],
   "source": [
    "input_ids, attn_masks, labels, metadata = load_data(\"val\")\n",
    "val_dataset = MaskedSequenceClassificationDataset(input_ids, attn_masks, labels, metadata)\n",
    "print(np.bincount(val_dataset.labels.numpy()) / len(val_dataset))\n",
    "validation_dataloader = DataLoader(\n",
    "    val_dataset, sampler=SequentialSampler(val_dataset), batch_size=BATCH_SIZE\n",
    ")\n",
    "print(\"{:>5,} validation samples.\".format(len(val_dataset)))\n",
    "\n",
    "input_ids, attn_masks, labels, metadata = load_data(\"test\")\n",
    "test_dataset = MaskedSequenceClassificationDataset(input_ids, attn_masks, labels, metadata)\n",
    "test_dataloader = DataLoader(\n",
    "    test_dataset, sampler=RandomSampler(test_dataset), batch_size=BATCH_SIZE\n",
    ")\n",
    "print(\"{:>5,} test samples.\".format(len(test_dataset)))"
   ]
  },
  {
   "cell_type": "code",
   "execution_count": 8,
   "metadata": {},
   "outputs": [
    {
     "name": "stderr",
     "output_type": "stream",
     "text": [
      "Some weights of BertForSequenceClassification were not initialized from the model checkpoint at bert-base-uncased and are newly initialized: ['classifier.weight', 'classifier.bias']\n",
      "You should probably TRAIN this model on a down-stream task to be able to use it for predictions and inference.\n"
     ]
    }
   ],
   "source": [
    "model = BertForSequenceClassification.from_pretrained(\n",
    "    \"bert-base-uncased\",\n",
    "    num_labels=5,\n",
    "    output_attentions=False,\n",
    "    output_hidden_states=False,\n",
    "    cache_dir=CACHE_DIR,\n",
    ").to(DEVICE)"
   ]
  },
  {
   "cell_type": "code",
   "execution_count": 9,
   "metadata": {},
   "outputs": [],
   "source": [
    "optimizer = torch.optim.AdamW(model.parameters(), lr = LEARNING_RATE, eps = ADAMW_TOLERANCE)\n",
    "scheduler = get_cosine_schedule_with_warmup(optimizer, num_warmup_steps = 0, num_training_steps = EPOCHS * BATCH_SIZE * len(train_dataloader))"
   ]
  },
  {
   "cell_type": "markdown",
   "metadata": {},
   "source": [
    "## Train"
   ]
  },
  {
   "cell_type": "code",
   "execution_count": 10,
   "metadata": {},
   "outputs": [],
   "source": [
    "def to_dict_of_lists(lst):\n",
    "    return {key: [i[key] for i in lst] for key in lst[0]}\n",
    "\n",
    "def format_time(elapsed):\n",
    "    # Round to the nearest second.\n",
    "    elapsed_rounded = int(round((elapsed)))\n",
    "\n",
    "    # Format as hh:mm:ss\n",
    "    return str(datetime.timedelta(seconds=elapsed_rounded))\n",
    "\n",
    "def flat_accuracy(preds, labels):\n",
    "    pred_flat = np.argmax(preds, axis=1).flatten()\n",
    "    labels_flat = labels.flatten()\n",
    "    return np.sum(pred_flat == labels_flat) / len(labels_flat)"
   ]
  },
  {
   "cell_type": "code",
   "execution_count": 11,
   "metadata": {},
   "outputs": [],
   "source": [
    "logging.basicConfig(\n",
    "    level=logging.INFO,\n",
    "    format=\"%(asctime)s [%(levelname)s] %(message)s\",\n",
    "    handlers=[\n",
    "        logging.FileHandler(os.path.join(OUT_DIR, \"output_{MODEL_NAME}_{OBJECTIVE}.log\")),\n",
    "        logging.FileHandler(\"output_{MODEL_NAME}_{OBJECTIVE}.log\"),\n",
    "        logging.StreamHandler(sys.stdout),\n",
    "    ],\n",
    ")"
   ]
  },
  {
   "cell_type": "code",
   "execution_count": 12,
   "metadata": {},
   "outputs": [
    {
     "name": "stdout",
     "output_type": "stream",
     "text": [
      "\n",
      "2024-06-01 16:23:59,478 [INFO] ======== Epoch 1 / 2 ========\n",
      "2024-06-01 16:23:59,480 [INFO] Training...\n",
      "2024-06-01 16:24:11,869 [INFO]   Batch    40  of    312.    Elapsed: 0:00:12.   Loss: 1.60212\n",
      "2024-06-01 16:24:23,989 [INFO]   Batch    80  of    312.    Elapsed: 0:00:25.   Loss: 1.54519\n",
      "2024-06-01 16:24:36,189 [INFO]   Batch   120  of    312.    Elapsed: 0:00:37.   Loss: 1.46404\n",
      "2024-06-01 16:24:48,340 [INFO]   Batch   160  of    312.    Elapsed: 0:00:49.   Loss: 1.38631\n",
      "2024-06-01 16:25:00,507 [INFO]   Batch   200  of    312.    Elapsed: 0:01:01.   Loss: 1.33111\n",
      "2024-06-01 16:25:12,699 [INFO]   Batch   240  of    312.    Elapsed: 0:01:13.   Loss: 1.28048\n",
      "2024-06-01 16:25:24,906 [INFO]   Batch   280  of    312.    Elapsed: 0:01:25.   Loss: 1.24271\n",
      "\n",
      "2024-06-01 16:25:34,619 [INFO]   Average training loss:      1.215\n",
      "2024-06-01 16:25:34,620 [INFO]   Average training objective: 1.215\n",
      "2024-06-01 16:25:34,621 [INFO]   Average training accuracy:  0.367\n",
      "2024-06-01 16:25:34,622 [INFO]   Training epoch took:        0:01:35\n",
      "\n",
      "2024-06-01 16:25:34,623 [INFO] Running Validation...\n",
      "2024-06-01 16:25:52,143 [INFO]   Validation Accuracy: 0.649\n",
      "2024-06-01 16:25:52,152 [INFO]               precision    recall  f1-score   support\n",
      "\n",
      "           0       0.51      0.31      0.38       131\n",
      "           1       0.31      0.39      0.34       277\n",
      "           2       0.43      0.38      0.40       926\n",
      "           3       0.49      0.37      0.42      2827\n",
      "           4       0.75      0.85      0.79      5839\n",
      "\n",
      "    accuracy                           0.65     10000\n",
      "   macro avg       0.50      0.46      0.47     10000\n",
      "weighted avg       0.63      0.65      0.63     10000\n",
      "\n",
      "2024-06-01 16:25:52,152 [INFO]   Validation Loss: 0.894\n",
      "2024-06-01 16:25:52,153 [INFO]   Validation took: 0:00:18\n",
      "\n",
      "2024-06-01 16:25:52,162 [INFO] ======== Epoch 2 / 2 ========\n",
      "2024-06-01 16:25:52,162 [INFO] Training...\n",
      "2024-06-01 16:26:04,481 [INFO]   Batch    40  of    312.    Elapsed: 0:00:12.   Loss: 0.91577\n",
      "2024-06-01 16:26:16,931 [INFO]   Batch    80  of    312.    Elapsed: 0:00:25.   Loss: 0.88773\n",
      "2024-06-01 16:26:29,483 [INFO]   Batch   120  of    312.    Elapsed: 0:00:37.   Loss: 0.87273\n",
      "2024-06-01 16:26:42,054 [INFO]   Batch   160  of    312.    Elapsed: 0:00:50.   Loss: 0.86502\n",
      "2024-06-01 16:26:54,740 [INFO]   Batch   200  of    312.    Elapsed: 0:01:03.   Loss: 0.84830\n",
      "2024-06-01 16:27:07,421 [INFO]   Batch   240  of    312.    Elapsed: 0:01:15.   Loss: 0.84160\n",
      "2024-06-01 16:27:20,037 [INFO]   Batch   280  of    312.    Elapsed: 0:01:28.   Loss: 0.83110\n",
      "\n",
      "2024-06-01 16:27:30,244 [INFO]   Average training loss:      0.825\n",
      "2024-06-01 16:27:30,245 [INFO]   Average training objective: 0.825\n",
      "2024-06-01 16:27:30,246 [INFO]   Average training accuracy:  0.548\n",
      "2024-06-01 16:27:30,247 [INFO]   Training epoch took:        0:01:38\n",
      "\n",
      "2024-06-01 16:27:30,247 [INFO] Running Validation...\n",
      "2024-06-01 16:27:49,258 [INFO]   Validation Accuracy: 0.655\n",
      "2024-06-01 16:27:49,266 [INFO]               precision    recall  f1-score   support\n",
      "\n",
      "           0       0.47      0.36      0.41       131\n",
      "           1       0.36      0.20      0.26       277\n",
      "           2       0.45      0.40      0.42       926\n",
      "           3       0.49      0.32      0.39      2827\n",
      "           4       0.73      0.88      0.80      5839\n",
      "\n",
      "    accuracy                           0.65     10000\n",
      "   macro avg       0.50      0.43      0.46     10000\n",
      "weighted avg       0.62      0.65      0.63     10000\n",
      "\n",
      "2024-06-01 16:27:49,267 [INFO]   Validation Loss: 0.887\n",
      "2024-06-01 16:27:49,268 [INFO]   Validation took: 0:00:19\n",
      "\n",
      "2024-06-01 16:27:49,276 [INFO] Training complete!\n",
      "2024-06-01 16:27:49,277 [INFO] Total training took 0:03:50 (h:mm:ss)\n"
     ]
    }
   ],
   "source": [
    "# Seed everything.\n",
    "random.seed(SEED)\n",
    "np.random.seed(SEED)\n",
    "torch.manual_seed(SEED)\n",
    "torch.cuda.manual_seed_all(SEED)\n",
    "\n",
    "training_stats = []\n",
    "total_t0 = time.time()\n",
    "for epoch_i in range(EPOCHS):\n",
    "\n",
    "    # ========================================\n",
    "    #               Training\n",
    "    # ========================================\n",
    "\n",
    "    print(\"\")\n",
    "    logging.info(\"======== Epoch {:} / {:} ========\".format(epoch_i + 1, EPOCHS))\n",
    "    logging.info(\"Training...\")\n",
    "\n",
    "    t0 = time.time()\n",
    "    total_train_loss = 0\n",
    "    total_train_objective = 0\n",
    "    total_train_accuracy = 0\n",
    "\n",
    "    model.train()\n",
    "\n",
    "    for step, batch in enumerate(train_dataloader):\n",
    "\n",
    "        if step % 40 == 0 and not step == 0:\n",
    "            elapsed = format_time(time.time() - t0)\n",
    "            logging.info(\n",
    "                \"  Batch {:>5,}  of  {:>5,}.    Elapsed: {:}.   Loss: {:0.5f}\".format(\n",
    "                    step, len(train_dataloader), elapsed, total_train_loss / step\n",
    "                )\n",
    "            )\n",
    "\n",
    "        b_input_ids = batch[0].to(DEVICE)\n",
    "        b_input_mask = batch[1].to(DEVICE)\n",
    "        b_labels = batch[2].to(DEVICE)\n",
    "\n",
    "        model.zero_grad()\n",
    "\n",
    "        if OBJECTIVE == \"superquantile\":\n",
    "            # use only the examples with high loss.\n",
    "            with torch.no_grad():\n",
    "                output = model(\n",
    "                    input_ids=b_input_ids,\n",
    "                    attention_mask=b_input_mask,\n",
    "                    labels=b_labels,\n",
    "                    return_dict=True,\n",
    "                )\n",
    "                logits = output.logits\n",
    "                losses = F.cross_entropy(logits, b_labels, reduction=\"none\")\n",
    "                sort, argsort = torch.sort(losses, stable=True)\n",
    "                rank = torch.argsort(argsort)\n",
    "        \n",
    "                b_input_ids = b_input_ids[rank >= int(len(losses) / 2)]\n",
    "                b_input_mask = b_input_mask[rank >= int(len(losses) / 2)]\n",
    "                b_labels = b_labels[rank >= int(len(losses) / 2)]\n",
    "\n",
    "        output = model(\n",
    "            input_ids=b_input_ids,\n",
    "            attention_mask=b_input_mask,\n",
    "            labels=b_labels,\n",
    "            return_dict=True,\n",
    "        )\n",
    "\n",
    "        loss = output.loss\n",
    "        logits = output.logits\n",
    "\n",
    "        # sample weighted loss\n",
    "        # losses = F.cross_entropy(logits, b_labels, reduction=\"none\")\n",
    "        # # weights = compute_sample_weight(losses)\n",
    "        # weights = rnd[b_labels] / rnd[b_labels].sum()\n",
    "        # loss = weights @ losses\n",
    "\n",
    "        total_train_loss += output.loss.item()\n",
    "        total_train_objective += loss.item()\n",
    "        loss.backward()\n",
    "        \n",
    "\n",
    "        # TODO: See if this is needed.\n",
    "        # Clip the norm of the gradients to 1.0.\n",
    "        # This is to help prevent the \"exploding gradients\" problem.\n",
    "        torch.nn.utils.clip_grad_norm_(model.parameters(), 1.0)\n",
    "\n",
    "        optimizer.step()\n",
    "        scheduler.step()\n",
    "\n",
    "        total_train_accuracy += flat_accuracy(logits.detach().cpu().numpy(), b_labels.detach().cpu().numpy())\n",
    "\n",
    "    avg_train_loss = total_train_loss / len(train_dataloader)\n",
    "    avg_train_objective = total_train_objective / len(train_dataloader)\n",
    "    avg_train_accuracy = total_train_accuracy / len(train_dataloader)\n",
    "    training_time = format_time(time.time() - t0)\n",
    "\n",
    "    print(\"\")\n",
    "    logging.info(\"  Average training loss:      {0:.3f}\".format(avg_train_objective))\n",
    "    logging.info(\"  Average training objective: {0:.3f}\".format(avg_train_objective))\n",
    "    logging.info(\"  Average training accuracy:  {0:.3f}\".format(avg_train_accuracy))\n",
    "    logging.info(\"  Training epoch took:        {:}\".format(training_time))\n",
    "\n",
    "    # ========================================\n",
    "    #               Validation\n",
    "    # ========================================\n",
    "\n",
    "    print(\"\")\n",
    "    logging.info(\"Running Validation...\")\n",
    "\n",
    "    t0 = time.time()\n",
    "\n",
    "    model.eval()\n",
    "\n",
    "    total_eval_accuracy = 0\n",
    "    total_eval_loss = 0\n",
    "\n",
    "    y_true = []\n",
    "    y_pred = []\n",
    "    for batch in validation_dataloader:\n",
    "\n",
    "        b_input_ids = batch[0].to(DEVICE)\n",
    "        b_input_mask = batch[1].to(DEVICE)\n",
    "        b_labels = batch[2].to(DEVICE)\n",
    "\n",
    "        with torch.no_grad():\n",
    "            output = model(\n",
    "                input_ids=b_input_ids,\n",
    "                attention_mask=b_input_mask,\n",
    "                labels=b_labels,\n",
    "            )\n",
    "            loss = output.loss\n",
    "            logits = output.logits\n",
    "\n",
    "        total_eval_loss += loss.item()\n",
    "\n",
    "        logits = logits.detach().cpu().numpy()\n",
    "        label_ids = b_labels.to(\"cpu\").numpy()\n",
    "\n",
    "        y_pred.append(np.argmax(logits, axis=1))\n",
    "        y_true.append(label_ids)\n",
    "\n",
    "        # total_eval_accuracy += flat_accuracy(logits, label_ids)\n",
    "\n",
    "    y_true = np.concatenate(y_true)\n",
    "    y_pred = np.concatenate(y_pred)\n",
    "\n",
    "    avg_val_accuracy = accuracy_score(y_true, y_pred)\n",
    "    logging.info(\"  Validation Accuracy: {0:.3f}\".format(avg_val_accuracy))\n",
    "    logging.info(classification_report(y_true, y_pred, zero_division=0.0))\n",
    "    avg_val_loss = total_eval_loss / len(validation_dataloader)\n",
    "    validation_time = format_time(time.time() - t0)\n",
    "    logging.info(\"  Validation Loss: {0:.3f}\".format(avg_val_loss))\n",
    "    logging.info(\"  Validation took: {:}\".format(validation_time))\n",
    "\n",
    "    \n",
    "    epoch_stats = {\n",
    "        \"epoch\": epoch_i + 1,\n",
    "        \"train_loss\": avg_train_loss,\n",
    "        \"train_acc\": avg_train_accuracy,\n",
    "        \"val_loss\": avg_val_loss,\n",
    "        \"val_acc\": avg_val_accuracy,\n",
    "        \"train_time\": training_time,\n",
    "        \"val_time\": validation_time,\n",
    "        \"val_report\": classification_report(y_true, y_pred, zero_division=0.0, output_dict=True)\n",
    "    }\n",
    "    with open(os.path.join(OUT_DIR, f\"{MODEL_NAME}_{OBJECTIVE}_epoch_{epoch_i}.json\"), \"w\") as f:\n",
    "        json.dump(epoch_stats, f, indent=2)\n",
    "    training_stats.append(epoch_stats)\n",
    "\n",
    "print(\"\")\n",
    "logging.info(\"Training complete!\")\n",
    "logging.info(\n",
    "    \"Total training took {:} (h:mm:ss)\".format(format_time(time.time() - total_t0))\n",
    ")\n",
    "\n",
    "# Save the model.\n",
    "torch.save(model.state_dict(), os.path.join(OUT_DIR, f\"{MODEL_NAME}_{OBJECTIVE}.pt\"))\n",
    "training_stats = to_dict_of_lists(training_stats)\n",
    "with open(os.path.join(OUT_DIR, f\"{MODEL_NAME}_{OBJECTIVE}_training_stats.json\"), \"w\") as f:\n",
    "    json.dump(training_stats, f, indent=2)"
   ]
  },
  {
   "cell_type": "code",
   "execution_count": null,
   "metadata": {},
   "outputs": [],
   "source": []
  }
 ],
 "metadata": {
  "kernelspec": {
   "display_name": "dro",
   "language": "python",
   "name": "python3"
  },
  "language_info": {
   "codemirror_mode": {
    "name": "ipython",
    "version": 3
   },
   "file_extension": ".py",
   "mimetype": "text/x-python",
   "name": "python",
   "nbconvert_exporter": "python",
   "pygments_lexer": "ipython3",
   "version": "3.10.13"
  }
 },
 "nbformat": 4,
 "nbformat_minor": 2
}
